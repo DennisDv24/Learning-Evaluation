{
  "nbformat": 4,
  "nbformat_minor": 0,
  "metadata": {
    "colab": {
      "name": "Untitled1.ipynb",
      "version": "0.3.2",
      "provenance": [],
      "include_colab_link": true
    },
    "kernelspec": {
      "name": "python3",
      "display_name": "Python 3"
    }
  },
  "cells": [
    {
      "cell_type": "markdown",
      "metadata": {
        "id": "view-in-github",
        "colab_type": "text"
      },
      "source": [
        "<a href=\"https://colab.research.google.com/github/DennisDv24/Learning-Evaluation/blob/master/losses.ipynb\" target=\"_parent\"><img src=\"https://colab.research.google.com/assets/colab-badge.svg\" alt=\"Open In Colab\"/></a>"
      ]
    },
    {
      "cell_type": "code",
      "metadata": {
        "id": "CiJeiW690S9S",
        "colab_type": "code",
        "colab": {
          "base_uri": "https://localhost:8080/",
          "height": 35
        },
        "outputId": "3cdfe68e-e9d1-46d4-f2c6-1f58f3704060"
      },
      "source": [
        "import numpy as np\n",
        "import tensorflow as tf\n",
        "import keras"
      ],
      "execution_count": 18,
      "outputs": [
        {
          "output_type": "stream",
          "text": [
            "Using TensorFlow backend.\n"
          ],
          "name": "stderr"
        }
      ]
    },
    {
      "cell_type": "code",
      "metadata": {
        "id": "8ViC9RMG0ra7",
        "colab_type": "code",
        "colab": {}
      },
      "source": [
        "MSE = keras.losses.MSE"
      ],
      "execution_count": 0,
      "outputs": []
    },
    {
      "cell_type": "code",
      "metadata": {
        "id": "LFQAAjH800rx",
        "colab_type": "code",
        "colab": {
          "base_uri": "https://localhost:8080/",
          "height": 53
        },
        "outputId": "5f35b829-3469-47f0-ef4f-be8f8643b5aa"
      },
      "source": [
        "t = MSE(np.array([2,3,3,7,0,8,2]),np.array([2,3,3,7,2,9,2]))\n",
        "print(t)\n",
        "keras.backend.print_tensor(t) #?"
      ],
      "execution_count": 27,
      "outputs": [
        {
          "output_type": "stream",
          "text": [
            "Tensor(\"mean_squared_error_15/value:0\", shape=(), dtype=float32)\n"
          ],
          "name": "stdout"
        },
        {
          "output_type": "execute_result",
          "data": {
            "text/plain": [
              "<tf.Tensor 'Print_3:0' shape=() dtype=float32>"
            ]
          },
          "metadata": {
            "tags": []
          },
          "execution_count": 27
        }
      ]
    },
    {
      "cell_type": "code",
      "metadata": {
        "id": "RidpD1Kj0-R8",
        "colab_type": "code",
        "colab": {}
      },
      "source": [
        "class losses:\n",
        "\n",
        "  def MSE(fx,y):\n",
        "    loss = 0\n",
        "    for i in range(0,len(fx)):\n",
        "      loss += (fx[i]-y[i])**2\n",
        "    return (1/len(fx))*loss\n",
        "\n",
        "  SSE = lambda fx,y: len(fx) * MSE(fx,y)\n",
        "\n",
        "  RMSE = lambda fx,y: np.sqrt(MSE(fx,y))\n",
        "\n",
        "  NRMSE = lambda fx,y: losses.RMSE(fx,y)/np.mean(y)\n",
        "\n",
        "  def MAE(fx,y):\n",
        "    loss = 0\n",
        "    for i in range(0,len(fx)):\n",
        "      loss += np.absolute(fx[i]-y[i])\n",
        "    return (1/len(fx))*loss\n",
        "\n",
        "  def MAPE(fx,y):\n",
        "    loss = 0\n",
        "    for i in range(0,len(fx)):\n",
        "      loss+= ( np.absolute(fx[i]-y[i]) / np.absolute(y[i]) ) \n",
        "    return (100/len(fx))*loss\n",
        "\n",
        "  def sMAPE(fx,y):\n",
        "    loss = 0\n",
        "    for i in range(0,len(fx)):\n",
        "      loss += ( (np.absolute(fx[i]-y[i])) / ( np.absolute(fx[i]) + np.absolute(y[i]) ) )\n",
        "    return (200/len(fx))*loss\n"
      ],
      "execution_count": 0,
      "outputs": []
    },
    {
      "cell_type": "code",
      "metadata": {
        "id": "BILKLqAL2hOM",
        "colab_type": "code",
        "colab": {
          "base_uri": "https://localhost:8080/",
          "height": 143
        },
        "outputId": "3347b833-ec73-41ce-f44f-bd77e9a57a91"
      },
      "source": [
        "fxTest = np.array([2,3,3,7,0,8,2])\n",
        "yTest = np.array([2,3,3,7,2,9,2])\n",
        "\n",
        "print(losses.MSE(fxTest, yTest))\n",
        "print(losses.SSE(fxTest, yTest))\n",
        "print(losses.RMSE(fxTest, yTest))\n",
        "print(losses.NRMSE(fxTest, yTest))\n",
        "print(losses.MAE(fxTest, yTest))\n",
        "print(losses.MAPE(fxTest, yTest))\n",
        "\n",
        "print(losses.sMAPE(fxTest, yTest))\n",
        "\n"
      ],
      "execution_count": 55,
      "outputs": [
        {
          "output_type": "stream",
          "text": [
            "0.7142857142857142\n",
            "4.999999999999999\n",
            "0.8451542547285166\n",
            "0.21128856368212914\n",
            "0.42857142857142855\n",
            "15.873015873015875\n",
            "30.252100840336137\n"
          ],
          "name": "stdout"
        }
      ]
    },
    {
      "cell_type": "code",
      "metadata": {
        "id": "odi4JmHV2lHX",
        "colab_type": "code",
        "colab": {}
      },
      "source": [
        ""
      ],
      "execution_count": 0,
      "outputs": []
    }
  ]
}