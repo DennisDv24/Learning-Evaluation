{
  "nbformat": 4,
  "nbformat_minor": 0,
  "metadata": {
    "colab": {
      "name": "Evaluation.ipynb",
      "provenance": [],
      "collapsed_sections": [],
      "authorship_tag": "ABX9TyMcwHHsw2SJSXIzyuM+kXgF",
      "include_colab_link": true
    },
    "kernelspec": {
      "name": "python3",
      "display_name": "Python 3"
    }
  },
  "cells": [
    {
      "cell_type": "markdown",
      "metadata": {
        "id": "view-in-github",
        "colab_type": "text"
      },
      "source": [
        "<a href=\"https://colab.research.google.com/github/DennisDv24/Learning-Evaluation/blob/master/Evaluation.ipynb\" target=\"_parent\"><img src=\"https://colab.research.google.com/assets/colab-badge.svg\" alt=\"Open In Colab\"/></a>"
      ]
    },
    {
      "cell_type": "markdown",
      "metadata": {
        "id": "1V4z71e00Z9z",
        "colab_type": "text"
      },
      "source": [
        "k-fold Cross Validation\n"
      ]
    },
    {
      "cell_type": "code",
      "metadata": {
        "id": "_H3-lgby0jzF",
        "colab_type": "code",
        "colab": {}
      },
      "source": [
        "def final_error_based_on_k_errors(m):\n",
        "    m_sum = 0\n",
        "    for i in range(len(m)):\n",
        "        m_sum += m[i]               \n",
        "    return (1/len(m))*m_sum"
      ],
      "execution_count": 0,
      "outputs": []
    },
    {
      "cell_type": "code",
      "metadata": {
        "id": "KMUJQ0Fs2n5D",
        "colab_type": "code",
        "outputId": "69a3f3d1-5459-4f35-a928-3fc6188a1dbe",
        "colab": {
          "base_uri": "https://localhost:8080/",
          "height": 34
        }
      },
      "source": [
        "print(final_error_based_on_k_errors([0.2,0.4,0.1,0.5,0.6]))"
      ],
      "execution_count": 0,
      "outputs": [
        {
          "output_type": "stream",
          "text": [
            "0.3600000000000001\n"
          ],
          "name": "stdout"
        }
      ]
    },
    {
      "cell_type": "code",
      "metadata": {
        "id": "Tnspk5IQ3icV",
        "colab_type": "code",
        "colab": {}
      },
      "source": [
        "def divide_data_k_times(k, data):\n",
        "\n",
        "    dividedData = []\n",
        "    dataSum = len(data)\n",
        "    subranges = int(dataSum/k)\n",
        "\n",
        "    for i in range(k):\n",
        "        dividedData.append(data[subranges*i:subranges*(i+1)])\n",
        "\n",
        "    def add_remaining_data():\n",
        "        #dont really know how to do this clearly \n",
        "        pass\n",
        "\n",
        "    add_remaining_data()\n",
        "\n",
        "    return dividedData \n",
        "\n",
        "import random\n",
        "def error(data):\n",
        "    error = random.random() #heres the model calcs the error for specfic data\n",
        "    return error\n",
        "\n",
        "def calc_all_errors(divided_data):\n",
        "    m = []\n",
        "    for i in range(len(divided_data)):\n",
        "        m.append(error(divided_data[i]))\n",
        "\n",
        "    return m\n"
      ],
      "execution_count": 0,
      "outputs": []
    },
    {
      "cell_type": "code",
      "metadata": {
        "id": "gCcIpJjo31dQ",
        "colab_type": "code",
        "outputId": "a5537517-85c9-4aae-83ac-8469505a238f",
        "colab": {
          "base_uri": "https://localhost:8080/",
          "height": 34
        }
      },
      "source": [
        "test = [1,2,3,4,5,6,7,8,9,10,11,12,13,14,15,16,17,18,19,20]\n",
        "\n",
        "print(divide_data_k_times(6,test))\n"
      ],
      "execution_count": 0,
      "outputs": [
        {
          "output_type": "stream",
          "text": [
            "[[1, 2, 3], [4, 5, 6], [7, 8, 9], [10, 11, 12], [13, 14, 15], [16, 17, 18]]\n"
          ],
          "name": "stdout"
        }
      ]
    },
    {
      "cell_type": "code",
      "metadata": {
        "id": "jhcvC3nc9WUb",
        "colab_type": "code",
        "outputId": "e5f8f7a1-154f-4ef5-9671-cbec07d1f262",
        "colab": {
          "base_uri": "https://localhost:8080/",
          "height": 102
        }
      },
      "source": [
        "\n",
        "print(k_CV(test,3))\n",
        "\n",
        "print('-----------')\n",
        "\n",
        "divided_data = divide_data_k_times(3, test)\n",
        "print(divided_data)\n",
        "calc_error_for_each_data_pack = calc_all_errors(divided_data)\n",
        "print(calc_error_for_each_data_pack)\n",
        "print('final error: ',final_error_based_on_k_errors(calc_error_for_each_data_pack))\n"
      ],
      "execution_count": 0,
      "outputs": [
        {
          "output_type": "stream",
          "text": [
            "0.4809604545073501\n",
            "-----------\n",
            "[[1, 2, 3, 4, 5, 6], [7, 8, 9, 10, 11, 12], [13, 14, 15, 16, 17, 18]]\n",
            "[0.7406257099528168, 0.513468625954478, 0.7876677520389678]\n",
            "final error:  0.6805873626487542\n"
          ],
          "name": "stdout"
        }
      ]
    },
    {
      "cell_type": "code",
      "metadata": {
        "id": "nDrUroeW_np9",
        "colab_type": "code",
        "colab": {}
      },
      "source": [
        "####MORE CLEARLY:\n",
        "\n",
        "class k_CV:\n",
        "    def __init__(self, all_data = [], k = 1):\n",
        "        self.all_data = all_data\n",
        "        self.k = k\n",
        "\n",
        "    def final_error_based_on_k_errors(self, m=[]):\n",
        "        m_sum = 0\n",
        "        for i in range(len(m)):\n",
        "            m_sum += m[i]               \n",
        "        return (1/len(m))*m_sum\n",
        "\n",
        "    def divide_data_k_times(self, data=[], k=1):\n",
        "        if k == 1: k = self.k\n",
        "        if data == []: data = self.all_data # This makes the class work as a storage to the function and as a function of the class at the same time\n",
        "\n",
        "\n",
        "        dividedData = []\n",
        "        dataSum = len(data)\n",
        "        subranges = int(dataSum/k)\n",
        "\n",
        "        for i in range(k):\n",
        "            dividedData.append(data[subranges*i:subranges*(i+1)])\n",
        "\n",
        "        def add_remaining_data():\n",
        "            #dont really know how to do this clearly \n",
        "            pass\n",
        "\n",
        "        add_remaining_data()\n",
        "\n",
        "        return dividedData \n",
        "\n",
        "    import random\n",
        "\n",
        "    # This should be integrated with the model, in some way, and make the error function (loss function) an argument #\n",
        "    def error(data):\n",
        "        error = random.random() #heres the model calcs the error for specfic data\n",
        "        return error\n",
        "\n",
        "    def calc_all_errors(divided_data):\n",
        "        m = []\n",
        "        for i in range(len(divided_data)):\n",
        "            m.append(error(divided_data[i]))\n",
        "\n",
        "        return m\n",
        "    ##################################################################################################################\n",
        "\n",
        "    def calc(self):\n",
        "        return final_error_based_on_k_errors(calc_all_errors(divide_data_k_times(self.k, self.all_data)))\n"
      ],
      "execution_count": 0,
      "outputs": []
    },
    {
      "cell_type": "code",
      "metadata": {
        "id": "gUvFnDd9_8lA",
        "colab_type": "code",
        "outputId": "d3fb36d5-e2b8-46b4-b9b3-4471472d754b",
        "colab": {
          "base_uri": "https://localhost:8080/",
          "height": 68
        }
      },
      "source": [
        "test = [1,2,3,4,5,6,7,8,9,10,11,12,13,14,15,16,17,18,19,20]\n",
        "print(k_CV(test, 6).calc())\n",
        "print(k_CV(test,6).divide_data_k_times())\n",
        "print(k_CV().divide_data_k_times(test,6))"
      ],
      "execution_count": 0,
      "outputs": [
        {
          "output_type": "stream",
          "text": [
            "0.3555413267875891\n",
            "[[1, 2, 3], [4, 5, 6], [7, 8, 9], [10, 11, 12], [13, 14, 15], [16, 17, 18]]\n",
            "[[1, 2, 3], [4, 5, 6], [7, 8, 9], [10, 11, 12], [13, 14, 15], [16, 17, 18]]\n"
          ],
          "name": "stdout"
        }
      ]
    }
  ]
}