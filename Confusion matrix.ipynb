{
  "nbformat": 4,
  "nbformat_minor": 0,
  "metadata": {
    "kernelspec": {
      "display_name": "Python 3",
      "language": "python",
      "name": "python3"
    },
    "language_info": {
      "codemirror_mode": {
        "name": "ipython",
        "version": 3
      },
      "file_extension": ".py",
      "mimetype": "text/x-python",
      "name": "python",
      "nbconvert_exporter": "python",
      "pygments_lexer": "ipython3",
      "version": "3.6.8"
    },
    "colab": {
      "name": "Confusion matrix.ipynb",
      "version": "0.3.2",
      "provenance": []
    }
  },
  "cells": [
    {
      "cell_type": "markdown",
      "metadata": {
        "id": "uaOc0APq5B89",
        "colab_type": "text"
      },
      "source": [
        "# Confusion Matrices\n"
      ]
    },
    {
      "cell_type": "markdown",
      "metadata": {
        "id": "Gxs91cXT5OCz",
        "colab_type": "text"
      },
      "source": [
        "### Ploting"
      ]
    },
    {
      "cell_type": "code",
      "metadata": {
        "id": "Azl7B86rj8LO",
        "colab_type": "code",
        "colab": {}
      },
      "source": [
        "import numpy as np\n",
        "\n",
        "import matplotlib as mpl\n",
        "from matplotlib import pyplot as plt\n",
        "from matplotlib import cm\n",
        "from matplotlib.colors import ListedColormap, LinearSegmentedColormap\n",
        "%matplotlib inline\n",
        "\n",
        "from collections import OrderedDict\n",
        "import sklearn as sk\n",
        "from sklearn.metrics import confusion_matrix"
      ],
      "execution_count": 0,
      "outputs": []
    },
    {
      "cell_type": "code",
      "metadata": {
        "id": "yXkwzI9Aj8LS",
        "colab_type": "code",
        "colab": {}
      },
      "source": [
        "class confusionMatrix:\n",
        "  \n",
        "    def __init__(self, real, predicted, labels):\n",
        "        \n",
        "        self.real = real\n",
        "        self.predicted = predicted\n",
        "        self.labels = labels # = k\n",
        "        self.mainArray = confusion_matrix(self.real, self.predicted, self.labels)\n",
        "        \n",
        "        confusionMatrix.calcParameters(self)\n",
        "        \n",
        "        confusionMatrix.accCalc(self)\n",
        "    \n",
        "    def calcParameters(self):\n",
        "        \n",
        "        self.hits = 0\n",
        "        self.n = 0\n",
        "        for i in range(0, len(self.mainArray)):\n",
        "            self.hits += self.mainArray[i,i]\n",
        "            for j in range(0, len(self.mainArray)):\n",
        "                self.n += self.mainArray[i,j]\n",
        "                \n",
        "    def accCalc(self):\n",
        "        self.accuracy = self.hits/self.n\n",
        "        self.error = 1 - self.accuracy\n",
        "        \n",
        "    def log(self):\n",
        "        print('----------LOG----------')\n",
        "        print('real      : ', self.real)\n",
        "        print('predicted : ', self.predicted)\n",
        "        print('labels    : ', self.labels)\n",
        "        print('--Confusion matrix--')\n",
        "        print(self.mainArray)\n",
        "        print('accuracy  : ', self.accuracy)\n",
        "        print('error     : ', self.error)\n",
        "        confusionMatrix.draw(self)\n",
        "        \n",
        "    def draw(self,normalize = False):\n",
        "      \n",
        "      def plot(cm,\n",
        "               target_names,\n",
        "               title='Confusion matrix',\n",
        "               cmap=None,\n",
        "               normalize=normalize):\n",
        "      \n",
        "        import itertools\n",
        "        if cmap is None:\n",
        "            cmap = plt.get_cmap('PuBuGn')\n",
        "\n",
        "        plt.figure(figsize=(8, 6))\n",
        "        plt.imshow(cm, interpolation='nearest', cmap=cmap)\n",
        "        plt.title(title)\n",
        "        plt.colorbar()\n",
        "\n",
        "        if target_names is not None:\n",
        "            tick_marks = np.arange(len(target_names))\n",
        "            plt.xticks(tick_marks, target_names, rotation=45)\n",
        "            plt.yticks(tick_marks, target_names)\n",
        "\n",
        "        if normalize:\n",
        "            cm = cm.astype('float') / cm.sum(axis=1)[:, np.newaxis]\n",
        "\n",
        "\n",
        "        thresh = cm.max() / 1.5 if normalize else cm.max() / 2\n",
        "        for i, j in itertools.product(range(cm.shape[0]), range(cm.shape[1])):\n",
        "            if normalize:\n",
        "                plt.text(j, i, \"{:0.4f}\".format(cm[i, j]),\n",
        "                         horizontalalignment=\"center\",\n",
        "                         color=\"white\" if cm[i, j] > thresh else \"black\")\n",
        "            else:\n",
        "                plt.text(j, i, \"{:,}\".format(cm[i, j]),\n",
        "                         horizontalalignment=\"center\",\n",
        "                         color=\"white\" if cm[i, j] > thresh else \"black\")\n",
        "\n",
        "\n",
        "        plt.tight_layout()\n",
        "        plt.ylabel('True label')\n",
        "        plt.xlabel('Predicted label')\n",
        "        plt.show()\n",
        "      \n",
        "      plot(self.mainArray, self.labels)\n",
        "     "
      ],
      "execution_count": 0,
      "outputs": []
    },
    {
      "cell_type": "code",
      "metadata": {
        "id": "cxjrA9Xfo2KK",
        "colab_type": "code",
        "outputId": "dad0c139-fdf1-4310-ace8-9e6605d7c4b5",
        "colab": {
          "base_uri": "https://localhost:8080/",
          "height": 671
        }
      },
      "source": [
        "ccc = confusionMatrix([1,2,4,3,3,3,4,0,1,2,4,3,1,4,2,2,3,0,0,0,4,4,2,4,2,4,1,3],\n",
        "                      [0,1,3,4,0,2,3,4,2,2,3,4,1,3,2,4,2,3,0,1,1,2,3,4,4,2,0,3],\n",
        "                      [0,1,2,3,4])\n",
        "ccc.log()\n"
      ],
      "execution_count": 0,
      "outputs": [
        {
          "output_type": "stream",
          "text": [
            "----------LOG----------\n",
            "real      :  [1, 2, 4, 3, 3, 3, 4, 0, 1, 2, 4, 3, 1, 4, 2, 2, 3, 0, 0, 0, 4, 4, 2, 4, 2, 4, 1, 3]\n",
            "predicted :  [0, 1, 3, 4, 0, 2, 3, 4, 2, 2, 3, 4, 1, 3, 2, 4, 2, 3, 0, 1, 1, 2, 3, 4, 4, 2, 0, 3]\n",
            "labels    :  [0, 1, 2, 3, 4]\n",
            "--Confusion matrix--\n",
            "[[1 1 0 1 1]\n",
            " [2 1 1 0 0]\n",
            " [0 1 2 1 2]\n",
            " [1 0 2 1 2]\n",
            " [0 1 2 4 1]]\n",
            "accuracy  :  0.21428571428571427\n",
            "error     :  0.7857142857142857\n"
          ],
          "name": "stdout"
        },
        {
          "output_type": "display_data",
          "data": {
            "image/png": "[encoded data removed]",
            "text/plain": [
              "<Figure size 576x432 with 2 Axes>"
            ]
          },
          "metadata": {
            "tags": []
          }
        }
      ]
    },
    {
      "cell_type": "markdown",
      "metadata": {
        "id": "rOUz0fSW49qw",
        "colab_type": "text"
      },
      "source": [
        "### Binary evaluation"
      ]
    },
    {
      "cell_type": "code",
      "metadata": {
        "id": "V1C954Y65AwL",
        "colab_type": "code",
        "colab": {}
      },
      "source": [
        "class binaryConfusionMatrix(confusionMatrix):\n",
        "\n",
        "  def __init__(self, real, predicted, labels = [1,0]):\n",
        "    self.real = real\n",
        "    self.predicted = predicted\n",
        "    self.labels = labels\n",
        "    if len(labels)!=2 : print('wrong dimensions')\n",
        "    self.mainArray = confusion_matrix(self.real, self.predicted, self.labels)\n",
        "    \n",
        "    binaryConfusionMatrix.calcParameters(self)\n",
        "    binaryConfusionMatrix.accCalc(self)\n",
        "    binaryConfusionMatrix.calcBinaryParameters(self)\n",
        "    \n",
        "  def calcBinaryParameters(self, beta = 1):\n",
        "\n",
        "    self.TP = self.mainArray[0][0]\n",
        "    self.FP = self.mainArray[1][0]\n",
        "    self.FN = self.mainArray[0][1]\n",
        "    self.TN = self.mainArray[1][1]\n",
        "    self.P = self.TP + self.FN\n",
        "    self.N = self.TN + self.FP\n",
        "    self.precision = self.TP/(self.TP + self.FP)\n",
        "    self.TPR = self.TP/self.P\n",
        "    self.TNR = self.TN/self.N\n",
        "    self.FPR = self.FP/self.N\n",
        "\n",
        "    self.Fscore = ((1+(beta**2)) * self.precision*self.TPR)/((beta**2) * self.precision + self.TPR)\n",
        "    # '=' (1+B²)TP/((1+B²)TP+FP+B²FN)  # if B == 1 : F_B = F_Beta = F_1\n",
        "    self.MCC = (self.TP*self.TN-self.FP*self.FN)/\\\n",
        "    np.sqrt((self.TP+self.FP)*(self.TP+self.FN)*(self.TN+self.FP)*(self.TN+self.FN))\n",
        "    \n",
        "    self.J = self.TPR + self.TNR - 1\n",
        "    \n",
        "  def log(self):\n",
        "    confusionMatrix(self.real, self.predicted, self.labels).log()\n",
        "    print('--Binary Log--')\n",
        "    print('TP = ', self.TP)\n",
        "    print('FP = ', self.FP)\n",
        "    print('FN = ', self.FN)\n",
        "    print('TN = ', self.TN)\n",
        "    print('precision = ', self.precision)\n",
        "    print('TPR = recall = sensitivity =  ', self.TPR)\n",
        "    print('TNR = specificity = ', self.TNR)\n",
        "    print('FPR = fall-out = ',self.FPR)\n",
        "    print('F-score = ', self.Fscore)\n",
        "    print('MCC = phi = ', self.MCC)\n",
        "    print('J = Youden = ',self.J)\n",
        "    "
      ],
      "execution_count": 0,
      "outputs": []
    },
    {
      "cell_type": "code",
      "metadata": {
        "id": "zHnXqhX-89Ab",
        "colab_type": "code",
        "outputId": "3ad7f03c-6784-4a77-a88b-2be4920997cb",
        "colab": {
          "base_uri": "https://localhost:8080/",
          "height": 833
        }
      },
      "source": [
        "test = binaryConfusionMatrix([1,1,0,0,1,1],[0,1,0,0,0,0])\n",
        "test.log()"
      ],
      "execution_count": 52,
      "outputs": [
        {
          "output_type": "stream",
          "text": [
            "----------LOG----------\n",
            "real      :  [1, 1, 0, 0, 1, 1]\n",
            "predicted :  [0, 1, 0, 0, 0, 0]\n",
            "labels    :  [1, 0]\n",
            "--Confusion matrix--\n",
            "[[1 3]\n",
            " [0 2]]\n",
            "accuracy  :  0.5\n",
            "error     :  0.5\n"
          ],
          "name": "stdout"
        },
        {
          "output_type": "display_data",
          "data": {
            "image/png": "[encoded data removed]",
            "text/plain": [
              "<Figure size 576x432 with 2 Axes>"
            ]
          },
          "metadata": {
            "tags": []
          }
        },
        {
          "output_type": "stream",
          "text": [
            "--Binary Log--\n",
            "TP =  1\n",
            "FP =  0\n",
            "FN =  3\n",
            "TN =  2\n",
            "precision =  1.0\n",
            "TPR = recall = sensitivity =   0.25\n",
            "TNR = specificity =  1.0\n",
            "FPR = fall-out =  0.0\n",
            "F-score =  0.4\n",
            "MCC = phi =  0.31622776601683794\n",
            "J = Youden =  0.25\n"
          ],
          "name": "stdout"
        }
      ]
    }
  ]
}