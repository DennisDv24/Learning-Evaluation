{
 "cells": [
  {
   "cell_type": "code",
   "execution_count": 1,
   "metadata": {},
   "outputs": [],
   "source": [
    "import numpy as np\n",
    "\n",
    "import matplotlib as mpl\n",
    "from matplotlib import pyplot as plt\n",
    "from matplotlib import cm\n",
    "from matplotlib.colors import ListedColormap, LinearSegmentedColormap\n",
    "%matplotlib inline\n",
    "\n",
    "from collections import OrderedDict\n",
    "import sklearn as sk\n",
    "from sklearn.metrics import confusion_matrix"
   ]
  },
  {
   "cell_type": "code",
   "execution_count": 2,
   "metadata": {},
   "outputs": [
    {
     "name": "stdout",
     "output_type": "stream",
     "text": [
      "real      :  [1, 2, 4, 3, 3, 3, 4, 0, 1, 2, 4, 3, 1, 4, 2, 2, 3, 0, 0, 0, 4, 4, 2, 4, 2, 4, 1, 3]\n",
      "predicted :  [0, 1, 3, 4, 0, 2, 3, 4, 2, 2, 3, 4, 1, 3, 2, 4, 2, 3, 0, 1, 1, 2, 3, 4, 4, 2, 0, 3]\n",
      "labels    :  [0, 1, 2, 3, 4]\n",
      "--Confusion matrix--\n",
      "[[1 1 0 1 1]\n",
      " [2 1 1 0 0]\n",
      " [0 1 2 1 2]\n",
      " [1 0 2 1 2]\n",
      " [0 1 2 4 1]]\n",
      "accuracy  :  0.21428571428571427\n",
      "error     :  0.7857142857142857\n"
     ]
    },
    {
     "data": {
      "image/png": "[encoded data removed]",
      "text/plain": [
       "<Figure size 432x288 with 1 Axes>"
      ]
     },
     "metadata": {
      "needs_background": "light"
     },
     "output_type": "display_data"
    }
   ],
   "source": [
    "class confusionMatrix:\n",
    "    def __init__(self, real, predicted, labels):\n",
    "        \n",
    "        self.real = real\n",
    "        self.predicted = predicted\n",
    "        self.labels = labels # = k\n",
    "        self.mainArray = confusion_matrix(self.real, self.predicted, self.labels)\n",
    "        \n",
    "        confusionMatrix.calcParameters(self)\n",
    "        \n",
    "        confusionMatrix.accCalc(self)\n",
    "    \n",
    "    def calcParameters(self):\n",
    "        \n",
    "        self.hits = 0\n",
    "        self.n = 0\n",
    "        for i in range(0, len(self.mainArray)):\n",
    "            self.hits += self.mainArray[i,i]\n",
    "            for j in range(0, len(self.mainArray)):\n",
    "                self.n += self.mainArray[i,j]\n",
    "                \n",
    "    def accCalc(self):\n",
    "        self.accuracy = self.hits/self.n\n",
    "        self.error = 1 - self.accuracy\n",
    "        \n",
    "    def log(self):\n",
    "        print('real      : ', self.real)\n",
    "        print('predicted : ', self.predicted)\n",
    "        print('labels    : ', self.labels)\n",
    "        print('--Confusion matrix--')\n",
    "        print(self.mainArray)\n",
    "        print('accuracy  : ', self.accuracy)\n",
    "        print('error     : ', self.error)\n",
    "        confusionMatrix.draw(self)\n",
    "    def draw(self):\n",
    "        plt.plot(self.real, self.predicted, 'o', color = 'r', label = 'data')\n",
    "        plt.xlabel('real')\n",
    "        plt.ylabel('predicted')\n",
    "        plt.grid()\n",
    "        plt.legend()\n",
    "        \n",
    "        \n",
    "        \n",
    "    \n",
    "ccc = confusionMatrix([1,2,4,3,3,3,4,0,1,2,4,3,1,4,2,2,3,0,0,0,4,4,2,4,2,4,1,3],\n",
    "                      [0,1,3,4,0,2,3,4,2,2,3,4,1,3,2,4,2,3,0,1,1,2,3,4,4,2,0,3],\n",
    "                      [0,1,2,3,4])\n",
    "\n",
    "ccc.log()\n"
   ]
  },
  {
   "cell_type": "code",
   "execution_count": null,
   "metadata": {},
   "outputs": [],
   "source": []
  }
 ],
 "metadata": {
  "kernelspec": {
   "display_name": "Python 3",
   "language": "python",
   "name": "python3"
  },
  "language_info": {
   "codemirror_mode": {
    "name": "ipython",
    "version": 3
   },
   "file_extension": ".py",
   "mimetype": "text/x-python",
   "name": "python",
   "nbconvert_exporter": "python",
   "pygments_lexer": "ipython3",
   "version": "3.6.8"
  }
 },
 "nbformat": 4,
 "nbformat_minor": 2
}
