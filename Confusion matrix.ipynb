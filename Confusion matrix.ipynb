{
  "nbformat": 4,
  "nbformat_minor": 0,
  "metadata": {
    "kernelspec": {
      "display_name": "Python 3",
      "language": "python",
      "name": "python3"
    },
    "language_info": {
      "codemirror_mode": {
        "name": "ipython",
        "version": 3
      },
      "file_extension": ".py",
      "mimetype": "text/x-python",
      "name": "python",
      "nbconvert_exporter": "python",
      "pygments_lexer": "ipython3",
      "version": "3.6.8"
    },
    "colab": {
      "name": "Confusion matrix.ipynb",
      "version": "0.3.2",
      "provenance": []
    }
  },
  "cells": [
    {
      "cell_type": "code",
      "metadata": {
        "id": "Azl7B86rj8LO",
        "colab_type": "code",
        "colab": {}
      },
      "source": [
        "import numpy as np\n",
        "\n",
        "import matplotlib as mpl\n",
        "from matplotlib import pyplot as plt\n",
        "from matplotlib import cm\n",
        "from matplotlib.colors import ListedColormap, LinearSegmentedColormap\n",
        "%matplotlib inline\n",
        "\n",
        "from collections import OrderedDict\n",
        "import sklearn as sk\n",
        "from sklearn.metrics import confusion_matrix"
      ],
      "execution_count": 0,
      "outputs": []
    },
    {
      "cell_type": "code",
      "metadata": {
        "id": "yXkwzI9Aj8LS",
        "colab_type": "code",
        "colab": {}
      },
      "source": [
        "class confusionMatrix:\n",
        "  \n",
        "    def __init__(self, real, predicted, labels):\n",
        "        \n",
        "        self.real = real\n",
        "        self.predicted = predicted\n",
        "        self.labels = labels # = k\n",
        "        self.mainArray = confusion_matrix(self.real, self.predicted, self.labels)\n",
        "        \n",
        "        confusionMatrix.calcParameters(self)\n",
        "        \n",
        "        confusionMatrix.accCalc(self)\n",
        "    \n",
        "    def calcParameters(self):\n",
        "        \n",
        "        self.hits = 0\n",
        "        self.n = 0\n",
        "        for i in range(0, len(self.mainArray)):\n",
        "            self.hits += self.mainArray[i,i]\n",
        "            for j in range(0, len(self.mainArray)):\n",
        "                self.n += self.mainArray[i,j]\n",
        "                \n",
        "    def accCalc(self):\n",
        "        self.accuracy = self.hits/self.n\n",
        "        self.error = 1 - self.accuracy\n",
        "        \n",
        "    def log(self):\n",
        "        print('real      : ', self.real)\n",
        "        print('predicted : ', self.predicted)\n",
        "        print('labels    : ', self.labels)\n",
        "        print('--Confusion matrix--')\n",
        "        print(self.mainArray)\n",
        "        print('accuracy  : ', self.accuracy)\n",
        "        print('error     : ', self.error)\n",
        "        confusionMatrix.draw(self,)\n",
        "        \n",
        "    def draw(self):\n",
        "      \n",
        "      def plot(cm,\n",
        "               target_names,\n",
        "               title='Confusion matrix',\n",
        "               cmap=None,\n",
        "               normalize=False):\n",
        "      \n",
        "        import itertools\n",
        "        if cmap is None:\n",
        "            cmap = plt.get_cmap('Blues')\n",
        "\n",
        "        plt.figure(figsize=(8, 6))\n",
        "        plt.imshow(cm, interpolation='nearest', cmap=cmap)\n",
        "        plt.title(title)\n",
        "        plt.colorbar()\n",
        "\n",
        "        if target_names is not None:\n",
        "            tick_marks = np.arange(len(target_names))\n",
        "            plt.xticks(tick_marks, target_names, rotation=45)\n",
        "            plt.yticks(tick_marks, target_names)\n",
        "\n",
        "        if normalize:\n",
        "            cm = cm.astype('float') / cm.sum(axis=1)[:, np.newaxis]\n",
        "\n",
        "\n",
        "        thresh = cm.max() / 1.5 if normalize else cm.max() / 2\n",
        "        for i, j in itertools.product(range(cm.shape[0]), range(cm.shape[1])):\n",
        "            if normalize:\n",
        "                plt.text(j, i, \"{:0.4f}\".format(cm[i, j]),\n",
        "                         horizontalalignment=\"center\",\n",
        "                         color=\"white\" if cm[i, j] > thresh else \"black\")\n",
        "            else:\n",
        "                plt.text(j, i, \"{:,}\".format(cm[i, j]),\n",
        "                         horizontalalignment=\"center\",\n",
        "                         color=\"white\" if cm[i, j] > thresh else \"black\")\n",
        "\n",
        "\n",
        "        plt.tight_layout()\n",
        "        plt.ylabel('True label')\n",
        "        plt.xlabel('Predicted label')\n",
        "        plt.show()\n",
        "      \n",
        "      plot(self.mainArray, self.labels)\n",
        "     "
      ],
      "execution_count": 0,
      "outputs": []
    },
    {
      "cell_type": "code",
      "metadata": {
        "id": "cxjrA9Xfo2KK",
        "colab_type": "code",
        "colab": {
          "base_uri": "https://localhost:8080/",
          "height": 1000
        },
        "outputId": "3ae2a4fb-3c71-4e79-c8e1-f0d853a9c001"
      },
      "source": [
        "ccc = confusionMatrix([1,2,4,3,3,3,4,0,1,2,4,3,1,4,2,2,3,0,0,0,4,4,2,4,2,4,1,3],\n",
        "                      [0,1,3,4,0,2,3,4,2,2,3,4,1,3,2,4,2,3,0,1,1,2,3,4,4,2,0,3],\n",
        "                      [0,1,2,3,4])\n",
        "\n",
        "ccc.draw()\n",
        "ccc.log()\n"
      ],
      "execution_count": 62,
      "outputs": [
        {
          "output_type": "display_data",
          "data": {
            "image/png": "[encoded data removed]",
            "text/plain": [
              "<Figure size 576x432 with 2 Axes>"
            ]
          },
          "metadata": {
            "tags": []
          }
        },
        {
          "output_type": "stream",
          "text": [
            "real      :  [1, 2, 4, 3, 3, 3, 4, 0, 1, 2, 4, 3, 1, 4, 2, 2, 3, 0, 0, 0, 4, 4, 2, 4, 2, 4, 1, 3]\n",
            "predicted :  [0, 1, 3, 4, 0, 2, 3, 4, 2, 2, 3, 4, 1, 3, 2, 4, 2, 3, 0, 1, 1, 2, 3, 4, 4, 2, 0, 3]\n",
            "labels    :  [0, 1, 2, 3, 4]\n",
            "--Confusion matrix--\n",
            "[[1 1 0 1 1]\n",
            " [2 1 1 0 0]\n",
            " [0 1 2 1 2]\n",
            " [1 0 2 1 2]\n",
            " [0 1 2 4 1]]\n",
            "accuracy  :  0.21428571428571427\n",
            "error     :  0.7857142857142857\n"
          ],
          "name": "stdout"
        },
        {
          "output_type": "display_data",
          "data": {
            "image/png": "[encoded data removed]",
            "text/plain": [
              "<Figure size 576x432 with 2 Axes>"
            ]
          },
          "metadata": {
            "tags": []
          }
        }
      ]
    }
  ]
}